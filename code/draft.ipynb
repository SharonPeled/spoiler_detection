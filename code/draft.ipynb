{
 "cells": [
  {
   "cell_type": "code",
   "execution_count": 2,
   "metadata": {},
   "outputs": [],
   "source": [
    "import string\n",
    "import json\n",
    "from collections import Counter\n",
    "import pickle\n",
    "import random"
   ]
  },
  {
   "cell_type": "code",
   "execution_count": 13,
   "metadata": {},
   "outputs": [],
   "source": [
    "SPECIAL_CHARACTER = \"<unk>\"\n",
    "DATA_PATH = '../data/goodreads_reviews_spoiler.json'\n",
    "OUT_DIR = '../data/'"
   ]
  },
  {
   "cell_type": "code",
   "execution_count": 14,
   "metadata": {},
   "outputs": [],
   "source": [
    "c_all = Counter()\n",
    "c_per_review = Counter()\n",
    "with open(DATA_PATH) as json_file:\n",
    "    for line in json_file:\n",
    "        data_dict = json.loads(line)\n",
    "        review_sentences = data_dict['review_sentences']\n",
    "        label_count = Counter([label for label, _ in review_sentences])\n",
    "        c_all.update(label_count)\n",
    "        c_per_review[\"Reviews_with_spoiler_sentence\"] += data_dict[\"has_spoiler\"]\n",
    "        c_per_review[\"Non-Spoiler_reviews\"] += not data_dict[\"has_spoiler\"]"
   ]
  },
  {
   "cell_type": "code",
   "execution_count": 15,
   "metadata": {},
   "outputs": [
    {
     "data": {
      "text/plain": [
       "(Counter({0: 17102931, 1: 569724}),\n",
       " Counter({'Reviews_with_spoiler_sentence': 89627,\n",
       "          'Non-Spoiler_reviews': 1288406}))"
      ]
     },
     "execution_count": 15,
     "metadata": {},
     "output_type": "execute_result"
    }
   ],
   "source": [
    "c_all, c_per_review"
   ]
  },
  {
   "cell_type": "code",
   "execution_count": 16,
   "metadata": {},
   "outputs": [
    {
     "data": {
      "text/plain": [
       "(30.01967794932283, 14.375199437669453)"
      ]
     },
     "execution_count": 16,
     "metadata": {},
     "output_type": "execute_result"
    }
   ],
   "source": [
    "17102931/569724, 1288406/89627"
   ]
  },
  {
   "cell_type": "code",
   "execution_count": 18,
   "metadata": {},
   "outputs": [
    {
     "data": {
      "text/plain": [
       "35850.8"
      ]
     },
     "execution_count": 18,
     "metadata": {},
     "output_type": "execute_result"
    }
   ],
   "source": [
    "(89627*2)*0.2"
   ]
  },
  {
   "cell_type": "code",
   "execution_count": null,
   "metadata": {},
   "outputs": [],
   "source": []
  }
 ],
 "metadata": {
  "kernelspec": {
   "display_name": "Python 3",
   "language": "python",
   "name": "python3"
  },
  "language_info": {
   "codemirror_mode": {
    "name": "ipython",
    "version": 3
   },
   "file_extension": ".py",
   "mimetype": "text/x-python",
   "name": "python",
   "nbconvert_exporter": "python",
   "pygments_lexer": "ipython3",
   "version": "3.7.7"
  }
 },
 "nbformat": 4,
 "nbformat_minor": 4
}

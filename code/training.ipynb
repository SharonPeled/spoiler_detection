{
 "cells": [
  {
   "cell_type": "code",
   "execution_count": 1,
   "metadata": {},
   "outputs": [],
   "source": [
    "import torch\n",
    "import pandas as pd\n",
    "import numpy as np\n",
    "import torch\n",
    "import torch.nn as nn\n",
    "import torch.nn.functional as F\n",
    "import torch.optim as optim\n",
    "import matplotlib.pyplot as plt\n",
    "from torch.utils.data.dataset import Dataset, TensorDataset\n",
    "from torch.utils.data.dataloader import DataLoader\n",
    "from sklearn.metrics import precision_recall_fscore_support\n",
    "from sklearn.metrics import accuracy_score\n",
    "import json\n",
    "import pickle\n",
    "import string\n",
    "from dataset import SpoilerDataset\n",
    "from tqdm import tqdm\n",
    "from utils import *\n",
    "import time\n",
    "%load_ext autoreload\n",
    "%autoreload 2"
   ]
  },
  {
   "cell_type": "code",
   "execution_count": 2,
   "metadata": {},
   "outputs": [],
   "source": [
    "EPOCHS = 5\n",
    "WORD_EMBEDDING_DIM = 50\n",
    "HIDDEN_DIM = 50\n",
    "WORD_FEATURES_DIM = 3\n",
    "DEVICE = torch.device(\"cuda:0\" if torch.cuda.is_available() else \"cpu\") # torch.device(\"cpu\")\n",
    "LEARNING_RATE = 0.001\n",
    "ACCUMULATE_GRAD_STEPS = 64\n",
    "LOAD_PROCESSED_DATA = False\n",
    "SAVE_MODEL = True\n",
    "SAVE_LOG_TO_FILE = True\n",
    "NEGATIVE_CLASS_WEIGHT = 0.25"
   ]
  },
  {
   "cell_type": "code",
   "execution_count": 3,
   "metadata": {},
   "outputs": [
    {
     "name": "stdout",
     "output_type": "stream",
     "text": [
      "Generating ...\n"
     ]
    },
    {
     "name": "stderr",
     "output_type": "stream",
     "text": [
      "100%|██████████| 77622/77622 [01:03<00:00, 1216.40it/s]\n"
     ]
    }
   ],
   "source": [
    "train_dataset = SpoilerDataset(filename=\"train.pickle\", load=LOAD_PROCESSED_DATA) # using defaults"
   ]
  },
  {
   "cell_type": "code",
   "execution_count": 4,
   "metadata": {},
   "outputs": [],
   "source": [
    "train_dataloader = DataLoader(train_dataset)"
   ]
  },
  {
   "cell_type": "code",
   "execution_count": 5,
   "metadata": {},
   "outputs": [],
   "source": [
    "class SpoilerNet(nn.Module):\n",
    "    def __init__(self, train_dataset, word_emb_dim, features_dim, hidden_dim, word_vocab_size, num_gru_layers, bidirectional):\n",
    "        super(SpoilerNet, self).__init__()\n",
    "        self.device = DEVICE\n",
    "        self.dataset = train_dataset\n",
    "        pretrained_embeddings = train_dataset.load_pretrained_embeddings(word_emb_dim)\n",
    "        self.word_embedding = nn.Embedding.from_pretrained(pretrained_embeddings.to(self.device), freeze=False)\n",
    "        # adding word features\n",
    "        word_emb_dim += features_dim\n",
    "        self.word_gru = nn.GRU(input_size=word_emb_dim, hidden_size=hidden_dim, \n",
    "                               num_layers=num_gru_layers, bidirectional=bidirectional ,batch_first=True)\n",
    "        self.linear = nn.Linear(in_features=2*hidden_dim,out_features=hidden_dim)\n",
    "        self.attention = nn.Linear(in_features=hidden_dim,out_features=1,bias=False)\n",
    "        self.tanh = nn.Tanh()\n",
    "        self.softmax = nn.Softmax(dim=1)\n",
    "        self.sentence_gru = nn.GRU(input_size=2*hidden_dim,hidden_size=hidden_dim,num_layers=num_gru_layers,\n",
    "                                   bidirectional=bidirectional,batch_first=True)\n",
    "        self.output_layer = nn.Linear(in_features=2*hidden_dim,out_features=2)\n",
    "        self.book_bias = nn.Parameter(torch.torch.ones(train_dataset.get_num_books()), requires_grad=True)\n",
    "        self.user_bias = nn.Parameter(torch.torch.ones(train_dataset.get_num_users()), requires_grad=True)\n",
    "        self.sigmoid = nn.Sigmoid()\n",
    "        self.softmax_output = nn.LogSoftmax()\n",
    "        \n",
    "    def forward(self,review, book_ind, user_ind):\n",
    "        vectorized_sentences = []\n",
    "        for sentence in review:\n",
    "            sentence = sentence.to(self.device) # TODO: I think it's more efficient to load everything at once\n",
    "            embedded_sentence = self.word_embedding(sentence).to(self.device)\n",
    "            word_features = train_dataset.get_tf_idf_features_tensor(sentence, book_id).to(self.device)\n",
    "            embedded_sentence = torch.cat([embedded_sentence, word_features],dim=2)\n",
    "            word_hidden_state, _ = self.word_gru(embedded_sentence)\n",
    "            mu = self.tanh(self.linear(word_hidden_state))\n",
    "            alpha_weights = self.softmax(self.attention(mu))\n",
    "            attended_vector = (alpha_weights * word_hidden_state).sum(dim=1)\n",
    "            vectorized_sentences.append(attended_vector)\n",
    "        stacked_vectorized_sentences = torch.stack(vectorized_sentences,dim=1)\n",
    "        sentence_hidden_state , _ = self.sentence_gru(stacked_vectorized_sentences)\n",
    "        output = self.output_layer(sentence_hidden_state).view(len(review),-1)\n",
    "        output += self.book_bias[book_ind] + self.book_bias[user_ind]\n",
    "        probs = self.softmax_output(output)\n",
    "        return probs,output"
   ]
  },
  {
   "cell_type": "code",
   "execution_count": 6,
   "metadata": {},
   "outputs": [
    {
     "name": "stderr",
     "output_type": "stream",
     "text": [
      "100%|██████████| 20001/20001 [00:00<00:00, 176066.23it/s]\n"
     ]
    },
    {
     "data": {
      "text/plain": [
       "SpoilerNet(\n",
       "  (word_embedding): Embedding(20001, 50)\n",
       "  (word_gru): GRU(53, 50, num_layers=2, batch_first=True, bidirectional=True)\n",
       "  (linear): Linear(in_features=100, out_features=50, bias=True)\n",
       "  (attention): Linear(in_features=50, out_features=1, bias=False)\n",
       "  (tanh): Tanh()\n",
       "  (softmax): Softmax(dim=1)\n",
       "  (sentence_gru): GRU(100, 50, num_layers=2, batch_first=True, bidirectional=True)\n",
       "  (output_layer): Linear(in_features=100, out_features=2, bias=True)\n",
       "  (sigmoid): Sigmoid()\n",
       "  (softmax_output): LogSoftmax()\n",
       ")"
      ]
     },
     "execution_count": 6,
     "metadata": {},
     "output_type": "execute_result"
    }
   ],
   "source": [
    "model = SpoilerNet(train_dataset, WORD_EMBEDDING_DIM, WORD_FEATURES_DIM, HIDDEN_DIM,len(train_dataset.word_to_id), 2, True)\n",
    "model.to(DEVICE)"
   ]
  },
  {
   "cell_type": "code",
   "execution_count": 7,
   "metadata": {},
   "outputs": [],
   "source": [
    "# reduction='sum' because we're using 1 sample batch\n",
    "criterion = nn.NLLLoss(weight=torch.tensor([NEGATIVE_CLASS_WEIGHT, 1]), reduction='sum').to(DEVICE)\n",
    "optimizer = optim.Adam(model.parameters(), lr=LEARNING_RATE)"
   ]
  },
  {
   "cell_type": "code",
   "execution_count": 10,
   "metadata": {},
   "outputs": [
    {
     "name": "stderr",
     "output_type": "stream",
     "text": [
      "  0%|          | 0/77622 [00:00<?, ?it/s]/home/student/.conda/envs/IIS/lib/python3.7/site-packages/ipykernel_launcher.py:40: UserWarning: Implicit dimension choice for log_softmax has been deprecated. Change the call to include dim=X as an argument.\n",
      "  1%|▏         | 1019/77622 [01:17<1:37:18, 13.12it/s]\n"
     ]
    },
    {
     "ename": "KeyboardInterrupt",
     "evalue": "",
     "output_type": "error",
     "traceback": [
      "\u001b[0;31m---------------------------------------------------------------------------\u001b[0m",
      "\u001b[0;31mKeyboardInterrupt\u001b[0m                         Traceback (most recent call last)",
      "\u001b[0;32m<ipython-input-10-d2d1d8fbb47f>\u001b[0m in \u001b[0;36m<module>\u001b[0;34m\u001b[0m\n\u001b[1;32m     12\u001b[0m         \u001b[0mloss\u001b[0m \u001b[0;34m=\u001b[0m \u001b[0mcriterion\u001b[0m\u001b[0;34m(\u001b[0m\u001b[0mprobs\u001b[0m\u001b[0;34m,\u001b[0m \u001b[0mlabels\u001b[0m\u001b[0;34m)\u001b[0m\u001b[0;34m\u001b[0m\u001b[0;34m\u001b[0m\u001b[0m\n\u001b[1;32m     13\u001b[0m         \u001b[0mloss\u001b[0m \u001b[0;34m=\u001b[0m \u001b[0mloss\u001b[0m\u001b[0;34m/\u001b[0m\u001b[0mACCUMULATE_GRAD_STEPS\u001b[0m\u001b[0;34m\u001b[0m\u001b[0;34m\u001b[0m\u001b[0m\n\u001b[0;32m---> 14\u001b[0;31m         \u001b[0mloss\u001b[0m\u001b[0;34m.\u001b[0m\u001b[0mbackward\u001b[0m\u001b[0;34m(\u001b[0m\u001b[0;34m)\u001b[0m\u001b[0;34m\u001b[0m\u001b[0;34m\u001b[0m\u001b[0m\n\u001b[0m\u001b[1;32m     15\u001b[0m \u001b[0;34m\u001b[0m\u001b[0m\n\u001b[1;32m     16\u001b[0m         \u001b[0;32mif\u001b[0m \u001b[0mbatch_idx\u001b[0m \u001b[0;34m%\u001b[0m \u001b[0mACCUMULATE_GRAD_STEPS\u001b[0m \u001b[0;34m==\u001b[0m \u001b[0;36m0\u001b[0m\u001b[0;34m:\u001b[0m\u001b[0;34m\u001b[0m\u001b[0;34m\u001b[0m\u001b[0m\n",
      "\u001b[0;32m~/.conda/envs/IIS/lib/python3.7/site-packages/torch/tensor.py\u001b[0m in \u001b[0;36mbackward\u001b[0;34m(self, gradient, retain_graph, create_graph)\u001b[0m\n\u001b[1;32m    164\u001b[0m                 \u001b[0mproducts\u001b[0m\u001b[0;34m.\u001b[0m \u001b[0mDefaults\u001b[0m \u001b[0mto\u001b[0m\u001b[0;31m \u001b[0m\u001b[0;31m`\u001b[0m\u001b[0;31m`\u001b[0m\u001b[0;32mFalse\u001b[0m\u001b[0;31m`\u001b[0m\u001b[0;31m`\u001b[0m\u001b[0;34m.\u001b[0m\u001b[0;34m\u001b[0m\u001b[0;34m\u001b[0m\u001b[0m\n\u001b[1;32m    165\u001b[0m         \"\"\"\n\u001b[0;32m--> 166\u001b[0;31m         \u001b[0mtorch\u001b[0m\u001b[0;34m.\u001b[0m\u001b[0mautograd\u001b[0m\u001b[0;34m.\u001b[0m\u001b[0mbackward\u001b[0m\u001b[0;34m(\u001b[0m\u001b[0mself\u001b[0m\u001b[0;34m,\u001b[0m \u001b[0mgradient\u001b[0m\u001b[0;34m,\u001b[0m \u001b[0mretain_graph\u001b[0m\u001b[0;34m,\u001b[0m \u001b[0mcreate_graph\u001b[0m\u001b[0;34m)\u001b[0m\u001b[0;34m\u001b[0m\u001b[0;34m\u001b[0m\u001b[0m\n\u001b[0m\u001b[1;32m    167\u001b[0m \u001b[0;34m\u001b[0m\u001b[0m\n\u001b[1;32m    168\u001b[0m     \u001b[0;32mdef\u001b[0m \u001b[0mregister_hook\u001b[0m\u001b[0;34m(\u001b[0m\u001b[0mself\u001b[0m\u001b[0;34m,\u001b[0m \u001b[0mhook\u001b[0m\u001b[0;34m)\u001b[0m\u001b[0;34m:\u001b[0m\u001b[0;34m\u001b[0m\u001b[0;34m\u001b[0m\u001b[0m\n",
      "\u001b[0;32m~/.conda/envs/IIS/lib/python3.7/site-packages/torch/autograd/__init__.py\u001b[0m in \u001b[0;36mbackward\u001b[0;34m(tensors, grad_tensors, retain_graph, create_graph, grad_variables)\u001b[0m\n\u001b[1;32m     97\u001b[0m     Variable._execution_engine.run_backward(\n\u001b[1;32m     98\u001b[0m         \u001b[0mtensors\u001b[0m\u001b[0;34m,\u001b[0m \u001b[0mgrad_tensors\u001b[0m\u001b[0;34m,\u001b[0m \u001b[0mretain_graph\u001b[0m\u001b[0;34m,\u001b[0m \u001b[0mcreate_graph\u001b[0m\u001b[0;34m,\u001b[0m\u001b[0;34m\u001b[0m\u001b[0;34m\u001b[0m\u001b[0m\n\u001b[0;32m---> 99\u001b[0;31m         allow_unreachable=True)  # allow_unreachable flag\n\u001b[0m\u001b[1;32m    100\u001b[0m \u001b[0;34m\u001b[0m\u001b[0m\n\u001b[1;32m    101\u001b[0m \u001b[0;34m\u001b[0m\u001b[0m\n",
      "\u001b[0;31mKeyboardInterrupt\u001b[0m: "
     ]
    }
   ],
   "source": [
    "beg = time.time()\n",
    "loss_train_list = []\n",
    "for epoch in range(EPOCHS):\n",
    "    loss_train_total = 0\n",
    "    # each batch is a single review\n",
    "    for batch_idx, input_data in tqdm(enumerate(train_dataloader), total=len(train_dataloader)):\n",
    "        review = input_data[0]\n",
    "        labels = torch.tensor(input_data[1]).to(model.device)\n",
    "        book_id = input_data[2]\n",
    "        user_id = input_data[3]\n",
    "        probs, output = model(review, book_id, user_id)\n",
    "        loss = criterion(probs, labels)\n",
    "        loss = loss/ACCUMULATE_GRAD_STEPS\n",
    "        loss.backward()\n",
    "        \n",
    "        if batch_idx % ACCUMULATE_GRAD_STEPS == 0:\n",
    "            optimizer.step()\n",
    "            model.zero_grad()\n",
    "            \n",
    "        loss_train_total += loss.item()\n",
    "        \n",
    "        if time.time()-beg > 600:\n",
    "            with open(\"output.txt\", \"a\") as file:\n",
    "                file.write(str(round(time.time()-beg,2)) + \"\\t\" + str(batch_idx))\n",
    "                file.write(\"\\n\")\n",
    "#             print(round(time.time()-beg,2),batch_idx)\n",
    "            beg = time.time()\n",
    "        \n",
    "    if SAVE_MODEL:\n",
    "        save_model(model, epoch+1)\n",
    "        \n",
    "    loss_train_total = loss_train_total / len(train_dataset)\n",
    "    loss_train_list.append(float(loss_train_total))\n",
    "    \n",
    "    print(\"Epoch {} Completed,\\tTrain Loss: {}\".format(epoch + 1, np.mean(loss_train_list[-batch_idx:])))\n",
    "    if SAVE_LOG_TO_FILE:\n",
    "        with open(\"output.txt\", \"a\") as file:\n",
    "            file.write(\"Epoch {} Completed,\\tTrain Loss: {}\".format(epoch + 1, np.mean(loss_train_list[-batch_idx:])))\n",
    "            file.write(\"\\n\")"
   ]
  },
  {
   "cell_type": "code",
   "execution_count": null,
   "metadata": {},
   "outputs": [],
   "source": [
    "def predict(dataloader):\n",
    "    y_true = []\n",
    "    y_pred = []\n",
    "    for batch_idx, input_data in tqdm(enumerate(dataloader), total=len(dataloader)):\n",
    "        review = input_data[0]\n",
    "        labels = torch.tensor(input_data[1]).to(model.device)\n",
    "        book_id = input_data[2]\n",
    "        user_id = input_data[3]\n",
    "        probs,ouput = model(review, book_id, user_id)\n",
    "        _, predicted = torch.max(probs.data, 1)\n",
    "        y_true += labels.tolist()\n",
    "        y_pred += predicted.tolist()\n",
    "    precision, recall, f1, _ = precision_recall_fscore_support(y_true, y_pred, average=\"binary\")    \n",
    "    if SAVE_LOG_TO_FILE:\n",
    "        with open(\"output.txt\", \"a\") as file:\n",
    "            file.write(str({\"precision\": precision, \"recall\":recall, \"f1\":f1, \"accuracy\":accuracy_score(y_true, y_pred)}))\n",
    "            file.write(\"\\n\")\n",
    "    return y_true, y_pred, {\"precision\": precision, \"recall\":recall, \"f1\":f1, \"accuracy\":accuracy_score(y_true, y_pred)}"
   ]
  },
  {
   "cell_type": "code",
   "execution_count": null,
   "metadata": {},
   "outputs": [],
   "source": [
    "valid_dataset = SpoilerDataset(filename=\"valid.pickle\", load=LOAD_PROCESSED_DATA)"
   ]
  },
  {
   "cell_type": "code",
   "execution_count": null,
   "metadata": {},
   "outputs": [],
   "source": [
    "valid_dataloader = DataLoader(valid_dataset)"
   ]
  },
  {
   "cell_type": "code",
   "execution_count": null,
   "metadata": {},
   "outputs": [],
   "source": [
    "y_true, y_pred, metrics = predict(valid_dataloader)\n",
    "metrics"
   ]
  },
  {
   "cell_type": "code",
   "execution_count": null,
   "metadata": {},
   "outputs": [],
   "source": [
    "sum(y_true)/len(y_true), sum(y_pred)/len(y_pred)"
   ]
  },
  {
   "cell_type": "code",
   "execution_count": null,
   "metadata": {},
   "outputs": [],
   "source": [
    "y_true, y_pred, metrics = predict(train_dataloader)\n",
    "metrics"
   ]
  },
  {
   "cell_type": "code",
   "execution_count": null,
   "metadata": {},
   "outputs": [],
   "source": [
    "sum(y_true)/len(y_true), sum(y_pred)/len(y_pred)"
   ]
  },
  {
   "cell_type": "code",
   "execution_count": null,
   "metadata": {},
   "outputs": [],
   "source": [
    "loss_train_list"
   ]
  },
  {
   "cell_type": "code",
   "execution_count": null,
   "metadata": {},
   "outputs": [],
   "source": []
  }
 ],
 "metadata": {
  "kernelspec": {
   "display_name": "Python 3",
   "language": "python",
   "name": "python3"
  },
  "language_info": {
   "codemirror_mode": {
    "name": "ipython",
    "version": 3
   },
   "file_extension": ".py",
   "mimetype": "text/x-python",
   "name": "python",
   "nbconvert_exporter": "python",
   "pygments_lexer": "ipython3",
   "version": "3.7.7"
  }
 },
 "nbformat": 4,
 "nbformat_minor": 4
}

{
 "cells": [
  {
   "cell_type": "code",
   "execution_count": 1,
   "metadata": {},
   "outputs": [],
   "source": [
    "import torch\n",
    "import pandas as pd\n",
    "import numpy as np\n",
    "import torch\n",
    "import torch.nn as nn\n",
    "import torch.nn.functional as F\n",
    "import torch.optim as optim\n",
    "import matplotlib.pyplot as plt\n",
    "from torch.utils.data.dataset import Dataset, TensorDataset\n",
    "from torch.utils.data.dataloader import DataLoader\n",
    "from sklearn.metrics import precision_recall_fscore_support\n",
    "from sklearn.metrics import accuracy_score\n",
    "import json\n",
    "import pickle\n",
    "import string\n",
    "from dataset import SpoilerDataset\n",
    "from tqdm import tqdm\n",
    "from utils import *\n",
    "%load_ext autoreload\n",
    "%autoreload 2"
   ]
  },
  {
   "cell_type": "code",
   "execution_count": 3,
   "metadata": {},
   "outputs": [],
   "source": [
    "EPOCHS = 5\n",
    "WORD_EMBEDDING_DIM = 100\n",
    "HIDDEN_DIM = 50\n",
    "DEVICE = torch.device(\"cuda:0\" if torch.cuda.is_available() else \"cpu\") # torch.device(\"cpu\")\n",
    "LEARNING_RATE = 0.001\n",
    "ACCUMULATE_GRAD_STEPS = 64"
   ]
  },
  {
   "cell_type": "code",
   "execution_count": 3,
   "metadata": {},
   "outputs": [
    {
     "name": "stdout",
     "output_type": "stream",
     "text": [
      "Loading existing train_processed.pickle .\n"
     ]
    }
   ],
   "source": [
    "train_dataset = SpoilerDataset(filename=\"train.pickle\") # using defaults"
   ]
  },
  {
   "cell_type": "code",
   "execution_count": 4,
   "metadata": {},
   "outputs": [],
   "source": [
    "train_dataloader = DataLoader(train_dataset)"
   ]
  },
  {
   "cell_type": "code",
   "execution_count": 6,
   "metadata": {},
   "outputs": [],
   "source": [
    "class SpoilerNet(nn.Module):\n",
    "    def __init__(self,word_emb_dim, hidden_dim, word_vocab_size, num_gru_layers, bidirectional):\n",
    "        super(SpoilerNet, self).__init__()\n",
    "        self.device = DEVICE\n",
    "        self.word_embedding = nn.Embedding(word_vocab_size, word_emb_dim) # TODO: use pretrained embeddings\n",
    "        self.word_gru = nn.GRU(input_size=word_emb_dim, hidden_size=hidden_dim, \n",
    "                               num_layers=num_gru_layers, bidirectional=bidirectional ,batch_first=True)\n",
    "        self.linear = nn.Linear(in_features=2*hidden_dim,out_features=hidden_dim)\n",
    "        self.attention = nn.Linear(in_features=hidden_dim,out_features=1,bias=False)\n",
    "        self.tanh = nn.Tanh()\n",
    "        self.softmax = nn.Softmax(dim=1)\n",
    "        self.sentence_gru = nn.GRU(input_size=2*hidden_dim,hidden_size=hidden_dim,num_layers=num_gru_layers,\n",
    "                                   bidirectional=bidirectional,batch_first=True)\n",
    "        self.output_layer = nn.Linear(in_features=2*hidden_dim,out_features=2)\n",
    "        self.softmax_output = nn.LogSoftmax()\n",
    "        \n",
    "    def forward(self,review):\n",
    "        vectorized_sentences = []\n",
    "        for sentence in review:\n",
    "            sentence = sentence.to(self.device) # TODO: I think it's more efficient to load everything at once\n",
    "            embedded_sentence = self.word_embedding(sentence)\n",
    "            word_hidden_state, _ = self.word_gru(embedded_sentence) # TODO: use sentence batching\n",
    "            mu = self.tanh(self.linear(word_hidden_state))\n",
    "            alpha_weights = self.softmax(self.attention(mu))\n",
    "            attended_vector = (alpha_weights * word_hidden_state).sum(dim=1)\n",
    "            vectorized_sentences.append(attended_vector)\n",
    "        stacked_vectorized_sentences = torch.stack(vectorized_sentences,dim=1)\n",
    "        sentence_hidden_state , _ = self.sentence_gru(stacked_vectorized_sentences)\n",
    "        output = self.output_layer(sentence_hidden_state).view(len(review),-1)\n",
    "        probs = self.softmax_output(output)\n",
    "        return probs,output"
   ]
  },
  {
   "cell_type": "code",
   "execution_count": 7,
   "metadata": {},
   "outputs": [
    {
     "data": {
      "text/plain": [
       "SpoilerNet(\n",
       "  (word_embedding): Embedding(895248, 100)\n",
       "  (word_gru): GRU(100, 50, num_layers=2, batch_first=True, bidirectional=True)\n",
       "  (linear): Linear(in_features=100, out_features=50, bias=True)\n",
       "  (attention): Linear(in_features=50, out_features=1, bias=False)\n",
       "  (tanh): Tanh()\n",
       "  (softmax): Softmax(dim=1)\n",
       "  (sentence_gru): GRU(100, 50, num_layers=2, batch_first=True, bidirectional=True)\n",
       "  (output_layer): Linear(in_features=100, out_features=2, bias=True)\n",
       "  (softmax_output): LogSoftmax()\n",
       ")"
      ]
     },
     "execution_count": 7,
     "metadata": {},
     "output_type": "execute_result"
    }
   ],
   "source": [
    "model = SpoilerNet(WORD_EMBEDDING_DIM,HIDDEN_DIM,len(train_dataset.word_to_id), 2, True)\n",
    "model.to(DEVICE)"
   ]
  },
  {
   "cell_type": "code",
   "execution_count": 8,
   "metadata": {},
   "outputs": [],
   "source": [
    "criterion = nn.NLLLoss()\n",
    "optimizer = optim.Adam(model.parameters(), lr=LEARNING_RATE)"
   ]
  },
  {
   "cell_type": "code",
   "execution_count": 9,
   "metadata": {},
   "outputs": [
    {
     "name": "stderr",
     "output_type": "stream",
     "text": [
      "  0%|          | 0/107554 [00:00<?, ?it/s]/home/student/.conda/envs/IIS/lib/python3.7/site-packages/ipykernel_launcher.py:30: UserWarning: Implicit dimension choice for log_softmax has been deprecated. Change the call to include dim=X as an argument.\n",
      "100%|██████████| 107554/107554 [7:02:58<00:00,  4.24it/s]  \n",
      "  0%|          | 0/107554 [00:00<?, ?it/s]"
     ]
    },
    {
     "name": "stdout",
     "output_type": "stream",
     "text": [
      "Epoch 1 Completed,\tTrain Loss: 0.004758241493778046\n"
     ]
    },
    {
     "name": "stderr",
     "output_type": "stream",
     "text": [
      " 37%|███▋      | 39431/107554 [2:34:52<4:27:34,  4.24it/s] \n"
     ]
    },
    {
     "ename": "KeyboardInterrupt",
     "evalue": "",
     "output_type": "error",
     "traceback": [
      "\u001b[0;31m---------------------------------------------------------------------------\u001b[0m",
      "\u001b[0;31mKeyboardInterrupt\u001b[0m                         Traceback (most recent call last)",
      "\u001b[0;32m<ipython-input-9-b9da9da44564>\u001b[0m in \u001b[0;36m<module>\u001b[0;34m\u001b[0m\n\u001b[1;32m     15\u001b[0m             \u001b[0mmodel\u001b[0m\u001b[0;34m.\u001b[0m\u001b[0mzero_grad\u001b[0m\u001b[0;34m(\u001b[0m\u001b[0;34m)\u001b[0m\u001b[0;34m\u001b[0m\u001b[0;34m\u001b[0m\u001b[0m\n\u001b[1;32m     16\u001b[0m \u001b[0;34m\u001b[0m\u001b[0m\n\u001b[0;32m---> 17\u001b[0;31m         \u001b[0mloss_train_total\u001b[0m \u001b[0;34m+=\u001b[0m \u001b[0mloss\u001b[0m\u001b[0;34m.\u001b[0m\u001b[0mitem\u001b[0m\u001b[0;34m(\u001b[0m\u001b[0;34m)\u001b[0m\u001b[0;34m\u001b[0m\u001b[0;34m\u001b[0m\u001b[0m\n\u001b[0m\u001b[1;32m     18\u001b[0m \u001b[0;34m\u001b[0m\u001b[0m\n\u001b[1;32m     19\u001b[0m     \u001b[0msave_model\u001b[0m\u001b[0;34m(\u001b[0m\u001b[0mmodel\u001b[0m\u001b[0;34m,\u001b[0m \u001b[0mbatch_idx\u001b[0m\u001b[0;34m+\u001b[0m\u001b[0;36m1\u001b[0m\u001b[0;34m)\u001b[0m\u001b[0;34m\u001b[0m\u001b[0;34m\u001b[0m\u001b[0m\n",
      "\u001b[0;31mKeyboardInterrupt\u001b[0m: "
     ]
    }
   ],
   "source": [
    "loss_train_list = []\n",
    "for epoch in range(EPOCHS):\n",
    "    loss_train_total = 0\n",
    "    # each batch is a single review\n",
    "    for batch_idx, input_data in tqdm(enumerate(train_dataloader), total=len(train_dataloader)):\n",
    "        review = input_data[0] # .to(model.device)\n",
    "        labels = torch.tensor(input_data[1]).to(model.device)\n",
    "        probs, output = model(review)\n",
    "        loss = criterion(probs, labels)\n",
    "        loss = loss/ACCUMULATE_GRAD_STEPS\n",
    "        loss.backward()\n",
    "        \n",
    "        if batch_idx % ACCUMULATE_GRAD_STEPS == 0:\n",
    "            optimizer.step()\n",
    "            model.zero_grad()\n",
    "            \n",
    "        loss_train_total += loss.item()\n",
    "        \n",
    "    save_model(model, batch_idx+1)\n",
    "    loss_train_total = loss_train_total / len(train_dataset)\n",
    "    loss_train_list.append(float(loss_train_total))\n",
    "    \n",
    "    print(\"Epoch {} Completed,\\tTrain Loss: {}\".format(epoch + 1, np.mean(loss_train_list[-batch_idx:])))\n",
    "    with open(\"output.txt\", \"a\") as file:\n",
    "        file.write(\"Epoch {} Completed,\\tTrain Loss: {}\".format(epoch + 1, np.mean(loss_train_list[-batch_idx:])))\n",
    "        file.write(\"\\n\")"
   ]
  },
  {
   "cell_type": "code",
   "execution_count": 49,
   "metadata": {},
   "outputs": [],
   "source": [
    "def predict(dataloader):\n",
    "    y_true = []\n",
    "    y_pred = []\n",
    "    for batch_idx, input_data in tqdm(enumerate(dataloader), total=len(dataloader)):\n",
    "        review = input_data[0]\n",
    "        labels = torch.tensor(input_data[1]).to(model.device)\n",
    "        probs,ouput = model(review)\n",
    "        _, predicted = torch.max(probs.data, 1)\n",
    "        y_true += labels.tolist()\n",
    "        y_pred += predicted.tolist()\n",
    "    precision, recall, f1, _ = precision_recall_fscore_support(y_true, y_pred, average=\"binary\")    \n",
    "    return {\"precision\": precision, \"recall\":recall, \"f1\":f1, \"accuracy\":accuracy_score(y_true, y_pred)}"
   ]
  },
  {
   "cell_type": "code",
   "execution_count": 11,
   "metadata": {},
   "outputs": [
    {
     "name": "stdout",
     "output_type": "stream",
     "text": [
      "Generating ...\n"
     ]
    },
    {
     "name": "stderr",
     "output_type": "stream",
     "text": [
      "100%|██████████| 35850/35850 [00:29<00:00, 1203.29it/s]\n"
     ]
    }
   ],
   "source": [
    "valid_dataset = SpoilerDataset(filename=\"valid.pickle\")"
   ]
  },
  {
   "cell_type": "code",
   "execution_count": 13,
   "metadata": {},
   "outputs": [],
   "source": [
    "valid_dataloader = DataLoader(valid_dataset)"
   ]
  },
  {
   "cell_type": "code",
   "execution_count": 50,
   "metadata": {},
   "outputs": [
    {
     "name": "stderr",
     "output_type": "stream",
     "text": [
      "  0%|          | 0/35850 [00:00<?, ?it/s]/home/student/.conda/envs/IIS/lib/python3.7/site-packages/ipykernel_launcher.py:30: UserWarning: Implicit dimension choice for log_softmax has been deprecated. Change the call to include dim=X as an argument.\n",
      "100%|██████████| 35850/35850 [15:19<00:00, 38.97it/s]\n"
     ]
    },
    {
     "data": {
      "text/plain": [
       "{'precision': 0.7094590378735883,\n",
       " 'recall': 0.3952756726691233,\n",
       " 'f1': 0.5076909338512714,\n",
       " 'accuracy': 0.8632353534006655}"
      ]
     },
     "execution_count": 50,
     "metadata": {},
     "output_type": "execute_result"
    }
   ],
   "source": [
    "predict(valid_dataloader)"
   ]
  },
  {
   "cell_type": "code",
   "execution_count": 51,
   "metadata": {},
   "outputs": [
    {
     "name": "stderr",
     "output_type": "stream",
     "text": [
      "  0%|          | 0/107554 [00:00<?, ?it/s]/home/student/.conda/envs/IIS/lib/python3.7/site-packages/ipykernel_launcher.py:30: UserWarning: Implicit dimension choice for log_softmax has been deprecated. Change the call to include dim=X as an argument.\n",
      "100%|██████████| 107554/107554 [44:34<00:00, 40.21it/s] \n"
     ]
    },
    {
     "data": {
      "text/plain": [
       "{'precision': 0.7477072920671537,\n",
       " 'recall': 0.4275033119570442,\n",
       " 'f1': 0.5439830829275935,\n",
       " 'accuracy': 0.8732016878442239}"
      ]
     },
     "execution_count": 51,
     "metadata": {},
     "output_type": "execute_result"
    }
   ],
   "source": [
    "predict(train_dataloader)"
   ]
  },
  {
   "cell_type": "code",
   "execution_count": 52,
   "metadata": {},
   "outputs": [
    {
     "data": {
      "text/plain": [
       "[0.004758241493778046]"
      ]
     },
     "execution_count": 52,
     "metadata": {},
     "output_type": "execute_result"
    }
   ],
   "source": [
    "loss_train_list"
   ]
  },
  {
   "cell_type": "code",
   "execution_count": null,
   "metadata": {},
   "outputs": [],
   "source": []
  }
 ],
 "metadata": {
  "kernelspec": {
   "display_name": "Python 3",
   "language": "python",
   "name": "python3"
  },
  "language_info": {
   "codemirror_mode": {
    "name": "ipython",
    "version": 3
   },
   "file_extension": ".py",
   "mimetype": "text/x-python",
   "name": "python",
   "nbconvert_exporter": "python",
   "pygments_lexer": "ipython3",
   "version": "3.7.7"
  }
 },
 "nbformat": 4,
 "nbformat_minor": 4
}

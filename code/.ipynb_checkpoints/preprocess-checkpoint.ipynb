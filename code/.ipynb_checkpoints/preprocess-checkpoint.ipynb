{
 "cells": [
  {
   "cell_type": "code",
   "execution_count": 1,
   "metadata": {},
   "outputs": [],
   "source": [
    "import json\n",
    "from collections import Counter, defaultdict\n",
    "import random\n",
    "import numpy as np\n",
    "from utils import *"
   ]
  },
  {
   "cell_type": "code",
   "execution_count": 2,
   "metadata": {},
   "outputs": [],
   "source": [
    "def create_word_dictionaries():\n",
    "    word_to_id = {}\n",
    "    id_to_word = {}\n",
    "    word_count = Counter()\n",
    "    id_word = 0\n",
    "    with open(DATASET_PATH) as json_file:\n",
    "        for line in json_file:\n",
    "            data_dict = json.loads(line)\n",
    "            review_sentences = data_dict['review_sentences']\n",
    "            for _, sentence in review_sentences:\n",
    "                for word in sentence.split():\n",
    "                    if word not in word_to_id.keys():\n",
    "                        word = clean_word(word)\n",
    "                        word_to_id[word] = id_word\n",
    "                        id_to_word[id_word] = word\n",
    "                        id_word += 1\n",
    "                    word_count[word] += 1\n",
    "        word_to_id[SPECIAL_CHARACTER] = id_word\n",
    "        id_to_word[id_word] = SPECIAL_CHARACTER\n",
    "    save_pickle(word_to_id, \"word_to_id.pickle\")\n",
    "    save_pickle(id_to_word, \"id_to_word.pickle\")\n",
    "    save_pickle(word_count, \"word_count.pickle\")\n",
    "    return word_to_id, id_to_word, word_count"
   ]
  },
  {
   "cell_type": "code",
   "execution_count": 3,
   "metadata": {},
   "outputs": [],
   "source": [
    "def fetch_samples():\n",
    "    true_samples = []\n",
    "    false_samples = []\n",
    "    with open(DATASET_PATH) as json_file:\n",
    "        for line in json_file:\n",
    "            sample = json.loads(line)\n",
    "            if not sample['has_spoiler']:\n",
    "                false_samples.append(sample)\n",
    "            else:\n",
    "                true_samples.append(sample)\n",
    "    random.shuffle(true_samples)\n",
    "    random.shuffle(false_samples)\n",
    "    return true_samples, false_samples\n",
    "\n",
    "\n",
    "def split_samples(samples, rat1, rat2):\n",
    "    true_samples, false_samples = fetch_samples()\n",
    "    first_chunk = int(rat1*len(samples))\n",
    "    second_chunk = int(rat2*len(samples))\n",
    "    return samples[:first_chunk] , samples[first_chunk:first_chunk+second_chunk], samples[first_chunk+second_chunk:]\n",
    "\n",
    "\n",
    "def train_valid_test_split(test_ratio, valid_ratio, class_ratio=1.0): \n",
    "    # class_ratio = 1 - means same number of sample for each class\n",
    "    true_samples, false_samples = fetch_samples()\n",
    "    size = int(min(len(true_samples), len(false_samples))/class_ratio)\n",
    "    true_test, true_valid, true_train = split_samples(true_samples[:size],test_ratio,valid_ratio)\n",
    "    false_test, false_valid, false_train = split_samples(false_samples[:size],test_ratio,valid_ratio)\n",
    "    train, valid, test = true_train+false_train, true_valid+false_valid, true_test+false_test\n",
    "    random.shuffle(train)\n",
    "    random.shuffle(valid)\n",
    "    random.shuffle(test)\n",
    "    save_pickle(train, \"train.pickle\")\n",
    "    save_pickle(valid, \"valid.pickle\")\n",
    "    save_pickle(test, \"test.pickle\")\n",
    "    return train, valid, test"
   ]
  },
  {
   "cell_type": "code",
   "execution_count": null,
   "metadata": {},
   "outputs": [],
   "source": [
    "_, _, _ = create_word_dictionaries()\n",
    "_, _, _ = train_valid_test_split(TEST_RATIO, VALID_RATIO)"
   ]
  }
 ],
 "metadata": {
  "kernelspec": {
   "display_name": "Python 3",
   "language": "python",
   "name": "python3"
  },
  "language_info": {
   "codemirror_mode": {
    "name": "ipython",
    "version": 3
   },
   "file_extension": ".py",
   "mimetype": "text/x-python",
   "name": "python",
   "nbconvert_exporter": "python",
   "pygments_lexer": "ipython3",
   "version": "3.7.7"
  }
 },
 "nbformat": 4,
 "nbformat_minor": 4
}

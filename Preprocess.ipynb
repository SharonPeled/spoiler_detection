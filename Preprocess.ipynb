{
 "cells": [
  {
   "cell_type": "code",
   "execution_count": 15,
   "metadata": {},
   "outputs": [],
   "source": [
    "import string\n",
    "import json\n",
    "from collections import Counter\n",
    "import pickle\n",
    "import random"
   ]
  },
  {
   "cell_type": "code",
   "execution_count": 19,
   "metadata": {},
   "outputs": [],
   "source": [
    "word_to_id = {}\n",
    "id_to_word = {}\n",
    "word_count = Counter()\n",
    "\n",
    "id_word = 0\n",
    "with open('data/goodreads_reviews_spoiler.json') as json_file:\n",
    "    for line in json_file:\n",
    "        data_dict = json.loads(line)\n",
    "        review_sentences = data_dict['review_sentences']\n",
    "        for sentence_with_label in review_sentences:\n",
    "            sentence = sentence_with_label[1]\n",
    "            cleaned_sentence = sentence.translate(str.maketrans('', '', string.punctuation))\n",
    "            words = cleaned_sentence.split()\n",
    "            for word in words:\n",
    "                if word not in word_to_id:\n",
    "                    word_to_id[word] = id_word\n",
    "                    id_to_word[id_word] = word\n",
    "                    id_word += 1\n",
    "                    \n",
    "                word_count[word] += 1"
   ]
  },
  {
   "cell_type": "code",
   "execution_count": 20,
   "metadata": {},
   "outputs": [],
   "source": [
    "word_to_id[\"<unk>\"] = id_word\n",
    "id_to_word[id_word] = \"<unk>\""
   ]
  },
  {
   "cell_type": "code",
   "execution_count": 24,
   "metadata": {},
   "outputs": [],
   "source": [
    "file = open('data/word_to_id.pickle', 'wb')\n",
    "pickle.dump(word_to_id, file)\n",
    "file.close()"
   ]
  },
  {
   "cell_type": "code",
   "execution_count": 25,
   "metadata": {},
   "outputs": [],
   "source": [
    "file = open('data/id_to_word.pickle', 'wb')\n",
    "pickle.dump(id_to_word, file)\n",
    "file.close()"
   ]
  },
  {
   "cell_type": "code",
   "execution_count": 26,
   "metadata": {},
   "outputs": [],
   "source": [
    "file = open('data/word_count.pickle', 'wb')\n",
    "pickle.dump(word_count, file)\n",
    "file.close()"
   ]
  },
  {
   "cell_type": "code",
   "execution_count": 10,
   "metadata": {},
   "outputs": [],
   "source": [
    "spoiler_lines = []\n",
    "non_spoiler_lines = []\n",
    "with open('data/goodreads_reviews_spoiler.json') as json_file:\n",
    "    for line in json_file:\n",
    "        data_dict = json.loads(line)\n",
    "        has_spoiler = data_dict['has_spoiler']\n",
    "        if has_spoiler:\n",
    "            spoiler_lines.append(line)\n",
    "        else:\n",
    "            non_spoiler_lines.append(line)"
   ]
  },
  {
   "cell_type": "code",
   "execution_count": 16,
   "metadata": {},
   "outputs": [],
   "source": [
    "random.shuffle(non_spoiler_lines)\n",
    "lines = spoiler_lines + non_spoiler_lines[:len(spoiler_lines)]\n",
    "random.shuffle(lines)"
   ]
  },
  {
   "cell_type": "code",
   "execution_count": 19,
   "metadata": {},
   "outputs": [],
   "source": [
    "train_lines = lines[0:round(len(lines)*0.8)]\n",
    "test_lines = lines[round(len(lines)*0.8):]"
   ]
  },
  {
   "cell_type": "code",
   "execution_count": 21,
   "metadata": {},
   "outputs": [],
   "source": [
    "with open('data/train_reviews_balanced.json','w') as f:\n",
    "    for item in train_lines:\n",
    "        f.write(\"%s\" % item)\n",
    "        \n",
    "with open('data/test_reviews_balanced.json','w') as f:\n",
    "    for item in test_lines:\n",
    "        f.write(\"%s\" % item)"
   ]
  }
 ],
 "metadata": {
  "kernelspec": {
   "display_name": "IIS",
   "language": "python",
   "name": "iis"
  },
  "language_info": {
   "codemirror_mode": {
    "name": "ipython",
    "version": 3
   },
   "file_extension": ".py",
   "mimetype": "text/x-python",
   "name": "python",
   "nbconvert_exporter": "python",
   "pygments_lexer": "ipython3",
   "version": "3.7.7"
  }
 },
 "nbformat": 4,
 "nbformat_minor": 2
}

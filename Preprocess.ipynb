{
 "cells": [
  {
   "cell_type": "code",
   "execution_count": 15,
   "metadata": {},
   "outputs": [],
   "source": [
    "import string\n",
    "import json\n",
    "from collections import Counter\n",
    "import pickle\n",
    "import random"
   ]
  },
  {
   "cell_type": "code",
   "execution_count": 19,
   "metadata": {},
   "outputs": [],
   "source": [
    "word_to_id = {}\n",
    "id_to_word = {}\n",
    "word_count = Counter()\n",
    "\n",
    "id_word = 0\n",
    "with open('data/goodreads_reviews_spoiler.json') as json_file:\n",
    "    for line in json_file:\n",
    "        data_dict = json.loads(line)\n",
    "        review_sentences = data_dict['review_sentences']\n",
    "        for sentence_with_label in review_sentences:\n",
    "            sentence = sentence_with_label[1]\n",
    "            cleaned_sentence = sentence.translate(str.maketrans('', '', string.punctuation))\n",
    "            words = cleaned_sentence.split()\n",
    "            for word in words:\n",
    "                if word not in word_to_id:\n",
    "                    word_to_id[word] = id_word\n",
    "                    id_to_word[id_word] = word\n",
    "                    id_word += 1\n",
    "                    \n",
    "                word_count[word] += 1"
   ]
  },
  {
   "cell_type": "code",
   "execution_count": 20,
   "metadata": {},
   "outputs": [],
   "source": [
    "word_to_id[\"<unk>\"] = id_word\n",
    "id_to_word[id_word] = \"<unk>\""
   ]
  },
  {
   "cell_type": "code",
   "execution_count": 24,
   "metadata": {},
   "outputs": [],
   "source": [
    "file = open('data/word_to_id.pickle', 'wb')\n",
    "pickle.dump(word_to_id, file)\n",
    "file.close()"
   ]
  },
  {
   "cell_type": "code",
   "execution_count": 25,
   "metadata": {},
   "outputs": [],
   "source": [
    "file = open('data/id_to_word.pickle', 'wb')\n",
    "pickle.dump(id_to_word, file)\n",
    "file.close()"
   ]
  },
  {
   "cell_type": "code",
   "execution_count": 26,
   "metadata": {},
   "outputs": [],
   "source": [
    "file = open('data/word_count.pickle', 'wb')\n",
    "pickle.dump(word_count, file)\n",
    "file.close()"
   ]
  },
  {
   "cell_type": "code",
   "execution_count": 10,
   "metadata": {},
   "outputs": [],
   "source": [
    "spoiler_lines = []\n",
    "non_spoiler_lines = []\n",
    "with open('data/goodreads_reviews_spoiler.json') as json_file:\n",
    "    for line in json_file:\n",
    "        data_dict = json.loads(line)\n",
    "        has_spoiler = data_dict['has_spoiler']\n",
    "        if has_spoiler:\n",
    "            spoiler_lines.append(line)\n",
    "        else:\n",
    "            non_spoiler_lines.append(line)"
   ]
  },
  {
   "cell_type": "code",
   "execution_count": 16,
   "metadata": {},
   "outputs": [],
   "source": [
    "random.shuffle(non_spoiler_lines)\n",
    "lines = spoiler_lines + non_spoiler_lines[:len(spoiler_lines)]\n",
    "random.shuffle(lines)"
   ]
  },
  {
   "cell_type": "code",
   "execution_count": 19,
   "metadata": {},
   "outputs": [],
   "source": [
    "train_lines = lines[0:round(len(lines)*0.8)]\n",
    "test_lines = lines[round(len(lines)*0.8):]"
   ]
  },
  {
   "cell_type": "code",
   "execution_count": 21,
   "metadata": {},
   "outputs": [],
   "source": [
    "with open('data/train_reviews_balanced.json','w') as f:\n",
    "    for item in train_lines:\n",
    "        f.write(\"%s\" % item)\n",
    "        \n",
    "with open('data/test_reviews_balanced.json','w') as f:\n",
    "    for item in test_lines:\n",
    "        f.write(\"%s\" % item)"
   ]
  },
  {
   "cell_type": "code",
   "execution_count": 25,
   "metadata": {},
   "outputs": [
    {
     "name": "stdout",
     "output_type": "stream",
     "text": [
      "{\"user_id\": \"2ba5dd2006aa7ae5f942e5062abf42c3\", \"timestamp\": \"2011-02-27\", \"review_sentences\": [[0, \"Not that bad a book, the plot felt like something for a Historical romance novel, which are things that i don't usually enjoy.\"], [1, \"the part about Ronnie's dancing was really cute.\"], [1, \"It was nice to see the ice princess actually have a warm, human side to her personality.\"], [1, \"This series doesn't seem nearly as interesting as Suzanne Brockmann's Troubleshooters, but it is something to read while this year's new books come out.\"]], \"rating\": 3, \"has_spoiler\": true, \"book_id\": \"414690\", \"review_id\": \"a1390fd73d0185f8c0e3eb386fe79e15\"}\n",
      "\n",
      "{\"user_id\": \"75f5d8b54b75a886ac06271a2a7bc925\", \"timestamp\": \"2015-07-29\", \"review_sentences\": [[0, \"This was an okay read for me.\"], [0, \"It was entertaining and funny at times, but other times it was predictable and the characters' choices were annoying.\"], [0, \"The story follows Kami and Jared, teenagers who thought each other to be imaginary friends until they end up meeting in the small town where Kami lives.\"], [0, \"Strange, mysterious things occur and the main plot is Kami and her friends trying to figure out who is behind it all.\"], [0, \"I liked Kami, the main character.\"], [0, \"Her humour, fearlessness and determination made her both a strong female protagonist, though probably not in the way you'd expect, and perfect for working for the school paper.\"], [0, \"She definitely had her flaws too - sometimes she could be mean without realising it and she rushed into things - but that made her more realistic.\"], [0, \"The main problems I did have with her though, were some of her choices in regard to Jared and Ash - and their choices in regard to her.\"], [0, \"They could be so frustrating!\"], [1, \"A lot of time was spent explaining that  [Kami was pushing Jared out because she didn't want to get hurt etc even though she's supposed to be always on his side and he's always on her side and she definitely trusted him.\"], [1, \"I thought that the positives of being that close to him would have outweighed this \\\"possibly getting hurt\\\" business, since it seemed so unlikely to happen.\"], [1, \"Also Kami wasn't the only one adding to this frustration - Jared was the worst at giving mixed signals, and shutting Kami out too!\"], [1, \"So much unnecessary drama!]\"], [0, \"That was the biggest negative of this book to me.\"], [0, \"It's also worth mentioning that whilst some of the jokes made me laugh nonstop, others missed the mark.\"], [0, \"One more issue is that I thought the mystery could have been solved a lot earlier on - I figured out most of it pretty quickly.\"], [1, \"[Also I totally caught on that Angela liked Holly waaay before Kami did!]\"], [0, \".\"], [0, \"Overall, this was a nice, sweet book that was also extremely frustrating.\"]], \"rating\": 3, \"has_spoiler\": true, \"book_id\": \"10866624\", \"review_id\": \"3d88b023726f15eca224fcca1267cde5\"}\n",
      "\n"
     ]
    }
   ],
   "source": [
    "# with open('data/train_reviews_balanced.json','r') as f:\n",
    "#     for i,line in enumerate(f):\n",
    "#         if (i==20) or (i==21):\n",
    "#             print(line)"
   ]
  }
 ],
 "metadata": {
  "kernelspec": {
   "display_name": "IIS",
   "language": "python",
   "name": "iis"
  },
  "language_info": {
   "codemirror_mode": {
    "name": "ipython",
    "version": 3
   },
   "file_extension": ".py",
   "mimetype": "text/x-python",
   "name": "python",
   "nbconvert_exporter": "python",
   "pygments_lexer": "ipython3",
   "version": "3.7.7"
  }
 },
 "nbformat": 4,
 "nbformat_minor": 2
}
